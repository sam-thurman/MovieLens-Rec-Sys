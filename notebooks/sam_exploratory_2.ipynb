{
 "cells": [
  {
   "cell_type": "code",
   "execution_count": 42,
   "metadata": {},
   "outputs": [
    {
     "name": "stdout",
     "output_type": "stream",
     "text": [
      "The autoreload extension is already loaded. To reload it, use:\n",
      "  %reload_ext autoreload\n"
     ]
    }
   ],
   "source": [
    "%load_ext autoreload\n",
    "%autoreload 2"
   ]
  },
  {
   "cell_type": "code",
   "execution_count": 43,
   "metadata": {},
   "outputs": [],
   "source": [
    "import os, sys\n",
    "module_path = os.path.abspath(os.path.join(os.pardir))\n",
    "if module_path not in sys.path:\n",
    "    sys.path.append(module_path)\n",
    "    \n",
    "import pandas as pd\n",
    "import numpy as np\n",
    "\n",
    "from pyspark.sql import SparkSession\n",
    "from pyspark import SparkContext\n",
    "import pyspark.sql\n",
    "\n",
    "from pyspark.ml.recommendation import ALS\n",
    "from pyspark.ml.feature import VectorAssembler\n",
    "from pyspark.ml.evaluation import RegressionEvaluator\n",
    "\n",
    "from sklearn.preprocessing import LabelEncoder\n",
    "from sklearn.preprocessing import OneHotEncoder\n",
    "from sklearn.model_selection import train_test_split\n",
    "from sklearn.preprocessing import MultiLabelBinarizer\n",
    "\n",
    "#scripts\n",
    "from src import rank_metrics\n",
    "from src import helpers\n",
    "from src import table_encoder\n",
    "from src import metrics"
   ]
  },
  {
   "cell_type": "code",
   "execution_count": 3,
   "metadata": {},
   "outputs": [],
   "source": [
    "spark = SparkSession(SparkContext())"
   ]
  },
  {
   "cell_type": "code",
   "execution_count": 58,
   "metadata": {},
   "outputs": [],
   "source": [
    "data_path = '../data/csv/'\n",
    "ratings_df = pd.DataFrame(pd.read_csv(os.path.join(data_path, 'ratings.csv')))\n",
    "movies_df = pd.DataFrame(pd.read_csv(os.path.join(data_path, 'movies.csv')))\n",
    "encoded_movies_df = pd.DataFrame(pd.read_csv(os.path.join(data_path, 'encoded_movies.csv')))\n",
    "encoded_movies_df = encoded_movies_df.drop('Unnamed: 0', axis=1)\n",
    "tags_df = pd.DataFrame(pd.read_csv(os.path.join(data_path, 'tags.csv')))\n",
    "enoded_tags_df = pd.DataFrame(pd.read_csv(os.path.join(data_path,'encoded_tags.csv')))"
   ]
  },
  {
   "cell_type": "code",
   "execution_count": 5,
   "metadata": {},
   "outputs": [
    {
     "data": {
      "text/html": [
       "<div>\n",
       "<style scoped>\n",
       "    .dataframe tbody tr th:only-of-type {\n",
       "        vertical-align: middle;\n",
       "    }\n",
       "\n",
       "    .dataframe tbody tr th {\n",
       "        vertical-align: top;\n",
       "    }\n",
       "\n",
       "    .dataframe thead th {\n",
       "        text-align: right;\n",
       "    }\n",
       "</style>\n",
       "<table border=\"1\" class=\"dataframe\">\n",
       "  <thead>\n",
       "    <tr style=\"text-align: right;\">\n",
       "      <th></th>\n",
       "      <th>movieId</th>\n",
       "      <th>title</th>\n",
       "      <th>genres</th>\n",
       "    </tr>\n",
       "  </thead>\n",
       "  <tbody>\n",
       "    <tr>\n",
       "      <th>0</th>\n",
       "      <td>1</td>\n",
       "      <td>Toy Story (1995)</td>\n",
       "      <td>Adventure|Animation|Children|Comedy|Fantasy</td>\n",
       "    </tr>\n",
       "    <tr>\n",
       "      <th>1</th>\n",
       "      <td>2</td>\n",
       "      <td>Jumanji (1995)</td>\n",
       "      <td>Adventure|Children|Fantasy</td>\n",
       "    </tr>\n",
       "    <tr>\n",
       "      <th>2</th>\n",
       "      <td>3</td>\n",
       "      <td>Grumpier Old Men (1995)</td>\n",
       "      <td>Comedy|Romance</td>\n",
       "    </tr>\n",
       "    <tr>\n",
       "      <th>3</th>\n",
       "      <td>4</td>\n",
       "      <td>Waiting to Exhale (1995)</td>\n",
       "      <td>Comedy|Drama|Romance</td>\n",
       "    </tr>\n",
       "    <tr>\n",
       "      <th>4</th>\n",
       "      <td>5</td>\n",
       "      <td>Father of the Bride Part II (1995)</td>\n",
       "      <td>Comedy</td>\n",
       "    </tr>\n",
       "    <tr>\n",
       "      <th>...</th>\n",
       "      <td>...</td>\n",
       "      <td>...</td>\n",
       "      <td>...</td>\n",
       "    </tr>\n",
       "    <tr>\n",
       "      <th>9737</th>\n",
       "      <td>193581</td>\n",
       "      <td>Black Butler: Book of the Atlantic (2017)</td>\n",
       "      <td>Action|Animation|Comedy|Fantasy</td>\n",
       "    </tr>\n",
       "    <tr>\n",
       "      <th>9738</th>\n",
       "      <td>193583</td>\n",
       "      <td>No Game No Life: Zero (2017)</td>\n",
       "      <td>Animation|Comedy|Fantasy</td>\n",
       "    </tr>\n",
       "    <tr>\n",
       "      <th>9739</th>\n",
       "      <td>193585</td>\n",
       "      <td>Flint (2017)</td>\n",
       "      <td>Drama</td>\n",
       "    </tr>\n",
       "    <tr>\n",
       "      <th>9740</th>\n",
       "      <td>193587</td>\n",
       "      <td>Bungo Stray Dogs: Dead Apple (2018)</td>\n",
       "      <td>Action|Animation</td>\n",
       "    </tr>\n",
       "    <tr>\n",
       "      <th>9741</th>\n",
       "      <td>193609</td>\n",
       "      <td>Andrew Dice Clay: Dice Rules (1991)</td>\n",
       "      <td>Comedy</td>\n",
       "    </tr>\n",
       "  </tbody>\n",
       "</table>\n",
       "<p>9742 rows × 3 columns</p>\n",
       "</div>"
      ],
      "text/plain": [
       "      movieId                                      title  \\\n",
       "0           1                           Toy Story (1995)   \n",
       "1           2                             Jumanji (1995)   \n",
       "2           3                    Grumpier Old Men (1995)   \n",
       "3           4                   Waiting to Exhale (1995)   \n",
       "4           5         Father of the Bride Part II (1995)   \n",
       "...       ...                                        ...   \n",
       "9737   193581  Black Butler: Book of the Atlantic (2017)   \n",
       "9738   193583               No Game No Life: Zero (2017)   \n",
       "9739   193585                               Flint (2017)   \n",
       "9740   193587        Bungo Stray Dogs: Dead Apple (2018)   \n",
       "9741   193609        Andrew Dice Clay: Dice Rules (1991)   \n",
       "\n",
       "                                           genres  \n",
       "0     Adventure|Animation|Children|Comedy|Fantasy  \n",
       "1                      Adventure|Children|Fantasy  \n",
       "2                                  Comedy|Romance  \n",
       "3                            Comedy|Drama|Romance  \n",
       "4                                          Comedy  \n",
       "...                                           ...  \n",
       "9737              Action|Animation|Comedy|Fantasy  \n",
       "9738                     Animation|Comedy|Fantasy  \n",
       "9739                                        Drama  \n",
       "9740                             Action|Animation  \n",
       "9741                                       Comedy  \n",
       "\n",
       "[9742 rows x 3 columns]"
      ]
     },
     "execution_count": 5,
     "metadata": {},
     "output_type": "execute_result"
    }
   ],
   "source": [
    "movies_df"
   ]
  },
  {
   "cell_type": "code",
   "execution_count": 6,
   "metadata": {},
   "outputs": [],
   "source": [
    "ratings_df = ratings_df.drop('timestamp', axis=1)"
   ]
  },
  {
   "cell_type": "code",
   "execution_count": 7,
   "metadata": {},
   "outputs": [
    {
     "data": {
      "text/html": [
       "<div>\n",
       "<style scoped>\n",
       "    .dataframe tbody tr th:only-of-type {\n",
       "        vertical-align: middle;\n",
       "    }\n",
       "\n",
       "    .dataframe tbody tr th {\n",
       "        vertical-align: top;\n",
       "    }\n",
       "\n",
       "    .dataframe thead th {\n",
       "        text-align: right;\n",
       "    }\n",
       "</style>\n",
       "<table border=\"1\" class=\"dataframe\">\n",
       "  <thead>\n",
       "    <tr style=\"text-align: right;\">\n",
       "      <th></th>\n",
       "      <th>userId</th>\n",
       "      <th>movieId</th>\n",
       "      <th>rating</th>\n",
       "    </tr>\n",
       "  </thead>\n",
       "  <tbody>\n",
       "    <tr>\n",
       "      <th>0</th>\n",
       "      <td>1</td>\n",
       "      <td>1</td>\n",
       "      <td>4.0</td>\n",
       "    </tr>\n",
       "    <tr>\n",
       "      <th>1</th>\n",
       "      <td>1</td>\n",
       "      <td>3</td>\n",
       "      <td>4.0</td>\n",
       "    </tr>\n",
       "    <tr>\n",
       "      <th>2</th>\n",
       "      <td>1</td>\n",
       "      <td>6</td>\n",
       "      <td>4.0</td>\n",
       "    </tr>\n",
       "  </tbody>\n",
       "</table>\n",
       "</div>"
      ],
      "text/plain": [
       "   userId  movieId  rating\n",
       "0       1        1     4.0\n",
       "1       1        3     4.0\n",
       "2       1        6     4.0"
      ]
     },
     "execution_count": 7,
     "metadata": {},
     "output_type": "execute_result"
    }
   ],
   "source": [
    "ratings_df.head(3)"
   ]
  },
  {
   "cell_type": "code",
   "execution_count": 8,
   "metadata": {},
   "outputs": [],
   "source": [
    "ratings = spark.createDataFrame(ratings_df)\n",
    "(training, test) = ratings.randomSplit([0.8, 0.2])"
   ]
  },
  {
   "cell_type": "code",
   "execution_count": 9,
   "metadata": {},
   "outputs": [
    {
     "data": {
      "text/plain": [
       "Row(userId=1, movieId=1, rating=4.0)"
      ]
     },
     "execution_count": 9,
     "metadata": {},
     "output_type": "execute_result"
    }
   ],
   "source": [
    "training.head()"
   ]
  },
  {
   "cell_type": "code",
   "execution_count": 10,
   "metadata": {},
   "outputs": [],
   "source": [
    "als = ALS(maxIter=5, regParam=0.01, userCol=\"userId\", itemCol=\"movieId\", ratingCol=\"rating\",\n",
    "          coldStartStrategy=\"drop\")\n",
    "model = als.fit(training)"
   ]
  },
  {
   "cell_type": "code",
   "execution_count": 11,
   "metadata": {},
   "outputs": [
    {
     "name": "stdout",
     "output_type": "stream",
     "text": [
      "RMSE = 1.0682942226879428\n"
     ]
    }
   ],
   "source": [
    "# Evaluate the model by computing the RMSE on the test data\n",
    "predictions = model.transform(test)\n",
    "evaluator = RegressionEvaluator(metricName=\"rmse\", labelCol=\"rating\",\n",
    "                                predictionCol=\"prediction\")\n",
    "rmse = evaluator.evaluate(predictions)\n",
    "print(\"RMSE = \" + str(rmse))\n",
    "\n",
    "# Generate top 10 movie recommendations for each user\n",
    "userRecs = model.recommendForAllUsers(5)\n",
    "# Generate top 10 user recommendations for each movie\n",
    "movieRecs = model.recommendForAllItems(5)"
   ]
  },
  {
   "cell_type": "code",
   "execution_count": 122,
   "metadata": {},
   "outputs": [
    {
     "data": {
      "text/html": [
       "<div>\n",
       "<style scoped>\n",
       "    .dataframe tbody tr th:only-of-type {\n",
       "        vertical-align: middle;\n",
       "    }\n",
       "\n",
       "    .dataframe tbody tr th {\n",
       "        vertical-align: top;\n",
       "    }\n",
       "\n",
       "    .dataframe thead th {\n",
       "        text-align: right;\n",
       "    }\n",
       "</style>\n",
       "<table border=\"1\" class=\"dataframe\">\n",
       "  <thead>\n",
       "    <tr style=\"text-align: right;\">\n",
       "      <th></th>\n",
       "      <th>userId</th>\n",
       "      <th>recommendations</th>\n",
       "    </tr>\n",
       "  </thead>\n",
       "  <tbody>\n",
       "    <tr>\n",
       "      <th>0</th>\n",
       "      <td>471</td>\n",
       "      <td>[(932, 9.259642601013184), (8638, 8.9710712432...</td>\n",
       "    </tr>\n",
       "    <tr>\n",
       "      <th>1</th>\n",
       "      <td>463</td>\n",
       "      <td>[(6857, 7.766437530517578), (3030, 6.936159610...</td>\n",
       "    </tr>\n",
       "    <tr>\n",
       "      <th>2</th>\n",
       "      <td>496</td>\n",
       "      <td>[(3272, 6.929464817047119), (4649, 6.589651107...</td>\n",
       "    </tr>\n",
       "    <tr>\n",
       "      <th>3</th>\n",
       "      <td>148</td>\n",
       "      <td>[(27611, 7.168304443359375), (68793, 6.6775064...</td>\n",
       "    </tr>\n",
       "    <tr>\n",
       "      <th>4</th>\n",
       "      <td>540</td>\n",
       "      <td>[(3030, 6.684593677520752), (3503, 6.585985183...</td>\n",
       "    </tr>\n",
       "  </tbody>\n",
       "</table>\n",
       "</div>"
      ],
      "text/plain": [
       "   userId                                    recommendations\n",
       "0     471  [(932, 9.259642601013184), (8638, 8.9710712432...\n",
       "1     463  [(6857, 7.766437530517578), (3030, 6.936159610...\n",
       "2     496  [(3272, 6.929464817047119), (4649, 6.589651107...\n",
       "3     148  [(27611, 7.168304443359375), (68793, 6.6775064...\n",
       "4     540  [(3030, 6.684593677520752), (3503, 6.585985183..."
      ]
     },
     "execution_count": 122,
     "metadata": {},
     "output_type": "execute_result"
    }
   ],
   "source": [
    "userRecs_df = helpers.spark_to_pandas(userRecs)\n",
    "userRecs_df.head()"
   ]
  },
  {
   "cell_type": "code",
   "execution_count": 107,
   "metadata": {},
   "outputs": [],
   "source": [
    "top_movies_and_rankings = helpers.get_top_movies_and_ratings(userRecs_df, 1, movies_df)\n",
    "top_movie_ratings = list(top_movies_and_rankings.values())\n",
    "top_movie_recs = list(top_movies_and_rankings.keys())"
   ]
  },
  {
   "cell_type": "code",
   "execution_count": 108,
   "metadata": {},
   "outputs": [
    {
     "data": {
      "text/plain": [
       "['Dunkirk (2017)',\n",
       " 'Sanjuro (Tsubaki Sanjûrô) (1962)',\n",
       " 'Before Sunrise (1995)',\n",
       " 'Yojimbo (1961)',\n",
       " 'Key Largo (1948)']"
      ]
     },
     "execution_count": 108,
     "metadata": {},
     "output_type": "execute_result"
    }
   ],
   "source": [
    "top_movie_recs"
   ]
  },
  {
   "cell_type": "code",
   "execution_count": 109,
   "metadata": {},
   "outputs": [],
   "source": [
    "user_rates = ratings_df[ratings_df['userId']==1]\n",
    "good_user_rates = user_rates[user_rates['rating']>3]"
   ]
  },
  {
   "cell_type": "code",
   "execution_count": 127,
   "metadata": {},
   "outputs": [],
   "source": [
    "good_user_rates = list(good_user_rates['movieId'])"
   ]
  },
  {
   "cell_type": "code",
   "execution_count": 110,
   "metadata": {},
   "outputs": [
    {
     "data": {
      "text/plain": [
       "1.0"
      ]
     },
     "execution_count": 110,
     "metadata": {},
     "output_type": "execute_result"
    }
   ],
   "source": [
    "rank_metrics.ndcg_at_k(top_movie_ratings, 5, 0)"
   ]
  },
  {
   "cell_type": "code",
   "execution_count": 111,
   "metadata": {},
   "outputs": [
    {
     "data": {
      "text/plain": [
       "\"Microcosmos (Microcosmos: Le peuple de l'herbe) (1996)\""
      ]
     },
     "execution_count": 111,
     "metadata": {},
     "output_type": "execute_result"
    }
   ],
   "source": [
    "movies_df[movies_df['movieId']==1111]['title'].values[0]"
   ]
  },
  {
   "cell_type": "code",
   "execution_count": 112,
   "metadata": {},
   "outputs": [
    {
     "data": {
      "text/plain": [
       "844"
      ]
     },
     "execution_count": 112,
     "metadata": {},
     "output_type": "execute_result"
    }
   ],
   "source": [
    "movies_df[movies_df['movieId']==1111]['title'].index[0]"
   ]
  },
  {
   "cell_type": "code",
   "execution_count": 113,
   "metadata": {},
   "outputs": [
    {
     "data": {
      "text/plain": [
       "[7.291133403778076,\n",
       " 6.976787567138672,\n",
       " 6.975888729095459,\n",
       " 6.872860908508301,\n",
       " 6.766486167907715]"
      ]
     },
     "execution_count": 113,
     "metadata": {},
     "output_type": "execute_result"
    }
   ],
   "source": [
    "top_movie_ratings"
   ]
  },
  {
   "cell_type": "code",
   "execution_count": 114,
   "metadata": {},
   "outputs": [
    {
     "data": {
      "text/plain": [
       "\"Microcosmos (Microcosmos: Le peuple de l'herbe) (1996)\""
      ]
     },
     "execution_count": 114,
     "metadata": {},
     "output_type": "execute_result"
    }
   ],
   "source": [
    "encoded_movies_df[encoded_movies_df['movieId']==1111]['title'].values[0]"
   ]
  },
  {
   "cell_type": "code",
   "execution_count": 115,
   "metadata": {},
   "outputs": [
    {
     "data": {
      "text/plain": [
       "[174055, 2905, 215, 3030, 3334]"
      ]
     },
     "execution_count": 115,
     "metadata": {},
     "output_type": "execute_result"
    }
   ],
   "source": [
    "movie_ids = []\n",
    "for title in top_movie_recs:\n",
    "    movie_ids.append(int(movies_df[movies_df['title']==title]['movieId']))\n",
    "movie_ids"
   ]
  },
  {
   "cell_type": "code",
   "execution_count": null,
   "metadata": {},
   "outputs": [],
   "source": []
  },
  {
   "cell_type": "code",
   "execution_count": 116,
   "metadata": {},
   "outputs": [
    {
     "data": {
      "text/plain": [
       "0.8165"
      ]
     },
     "execution_count": 116,
     "metadata": {},
     "output_type": "execute_result"
    }
   ],
   "source": [
    "metrics.compare_movie(232, 984, encoded_genres = encoded_movies_df)"
   ]
  },
  {
   "cell_type": "code",
   "execution_count": 117,
   "metadata": {},
   "outputs": [
    {
     "name": "stdout",
     "output_type": "stream",
     "text": [
      "users liked movies:\n",
      " ['Toy Story (1995)', 'Grumpier Old Men (1995)', 'Heat (1995)', 'Seven (a.k.a. Se7en) (1995)', 'Usual Suspects, The (1995)', 'Bottle Rocket (1996)', 'Braveheart (1995)', 'Rob Roy (1995)', 'Canadian Bacon (1995)', 'Desperado (1995)', 'Billy Madison (1995)', 'Dumb & Dumber (Dumb and Dumber) (1994)', 'Ed Wood (1994)', 'Star Wars: Episode IV - A New Hope (1977)', 'Tommy Boy (1995)', 'Clear and Present Danger (1994)', 'Forrest Gump (1994)', 'Jungle Book, The (1994)', 'Mask, The (1994)', 'Dazed and Confused (1993)', 'Fugitive, The (1993)', 'Jurassic Park (1993)', \"Schindler's List (1993)\", 'So I Married an Axe Murderer (1993)', 'Three Musketeers, The (1993)', 'Tombstone (1993)', 'Dances with Wolves (1990)', 'Batman (1989)', 'Silence of the Lambs, The (1991)', 'Pinocchio (1940)', 'Fargo (1996)', 'James and the Giant Peach (1996)', 'Rock, The (1996)', \"She's the One (1996)\", 'Wizard of Oz, The (1939)', 'Citizen Kane (1941)', 'Adventures of Robin Hood, The (1938)', 'Ghost and Mrs. Muir, The (1947)', 'Mr. Smith Goes to Washington (1939)', 'Winnie the Pooh and the Blustery Day (1968)', 'Three Caballeros, The (1945)', 'Sword in the Stone, The (1963)', 'Dumbo (1941)', 'Bedknobs and Broomsticks (1971)', 'Alice in Wonderland (1951)', 'That Thing You Do! (1996)', 'Ghost and the Darkness, The (1996)', 'Swingers (1996)', 'Willy Wonka & the Chocolate Factory (1971)', \"Monty Python's Life of Brian (1979)\", 'Reservoir Dogs (1992)', 'Platoon (1986)', 'Basic Instinct (1992)', 'E.T. the Extra-Terrestrial (1982)', 'Abyss, The (1989)', 'Monty Python and the Holy Grail (1975)', 'Star Wars: Episode V - The Empire Strikes Back (1980)', 'Princess Bride, The (1987)', 'Raiders of the Lost Ark (Indiana Jones and the Raiders of the Lost Ark) (1981)', 'Clockwork Orange, A (1971)', 'Apocalypse Now (1979)', 'Star Wars: Episode VI - Return of the Jedi (1983)', 'Goodfellas (1990)', 'Alien (1979)', 'Blues Brothers, The (1980)', 'Full Metal Jacket (1987)', 'Henry V (1989)', 'Quiet Man, The (1952)', 'Terminator, The (1984)', 'Duck Soup (1933)', 'Groundhog Day (1993)', 'Back to the Future (1985)', 'Highlander (1986)', 'Young Frankenstein (1974)', 'Fantasia (1940)', 'Indiana Jones and the Last Crusade (1989)', 'Pink Floyd: The Wall (1982)', 'Nosferatu (Nosferatu, eine Symphonie des Grauens) (1922)', 'Best Men (1997)', 'Grosse Pointe Blank (1997)', 'Austin Powers: International Man of Mystery (1997)', 'Con Air (1997)', 'Face/Off (1997)', 'Conan the Barbarian (1982)', 'L.A. Confidential (1997)', 'Kiss the Girls (1997)', 'Game, The (1997)', 'Big Lebowski, The (1998)', 'Wedding Singer, The (1998)', 'Welcome to Woop-Woop (1997)', 'Newton Boys, The (1998)', 'Wild Things (1998)', 'Small Soldiers (1998)', 'All Quiet on the Western Front (1930)', 'Rocky (1976)', 'Labyrinth (1986)', 'Lethal Weapon (1987)', 'Goonies, The (1985)', 'Back to the Future Part III (1990)', 'Bambi (1942)', 'Saving Private Ryan (1998)', 'Black Cauldron, The (1985)', 'Flight of the Navigator (1986)', 'Great Mouse Detective, The (1986)', 'Honey, I Shrunk the Kids (1989)', 'Negotiator, The (1998)', 'Jungle Book, The (1967)', 'Rescuers, The (1977)', 'Rocketeer, The (1991)', 'Sleeping Beauty (1959)', 'Song of the South (1946)', 'Tron (1982)', 'Indiana Jones and the Temple of Doom (1984)', 'Lord of the Rings, The (1978)', \"Charlotte's Web (1973)\", 'Secret of NIMH, The (1982)', 'American Tail, An (1986)', 'Legend (1985)', 'NeverEnding Story, The (1984)', 'Beetlejuice (1988)', 'Willow (1988)', 'Few Good Men, A (1992)', 'Rush Hour (1998)', 'Edward Scissorhands (1990)', 'American History X (1998)', 'Enemy of the State (1998)', 'King Kong (1933)', 'Very Bad Things (1998)', 'Rushmore (1998)', 'Romancing the Stone (1984)', 'Thin Red Line, The (1998)', 'Howard the Duck (1986)', 'Texas Chainsaw Massacre, The (1974)', 'Crocodile Dundee (1986)', '¡Three Amigos! (1986)', '20 Dates (1998)', 'Office Space (1999)', 'Planet of the Apes (1968)', 'Lock, Stock & Two Smoking Barrels (1998)', 'Matrix, The (1999)', 'Go (1999)', 'SLC Punk! (1998)', 'Dick Tracy (1990)', 'Star Wars: Episode I - The Phantom Menace (1999)', 'Superman (1978)', 'Superman II (1980)', 'Dracula (1931)', 'Frankenstein (1931)', 'Wolf Man, The (1941)', 'Run Lola Run (Lola rennt) (1998)', 'South Park: Bigger, Longer and Uncut (1999)', 'Ghostbusters (a.k.a. Ghost Busters) (1984)', 'Iron Giant, The (1999)', 'Big (1988)', '13th Warrior, The (1999)', 'American Beauty (1999)', 'Excalibur (1981)', \"Gulliver's Travels (1939)\", 'Total Recall (1990)', 'Dirty Dozen, The (1967)', 'Goldfinger (1964)', 'From Russia with Love (1963)', 'Dr. No (1962)', 'Fight Club (1999)', 'RoboCop (1987)', 'Who Framed Roger Rabbit? (1988)', 'Live and Let Die (1973)', 'Thunderball (1965)', 'Being John Malkovich (1999)', 'Spaceballs (1987)', 'Robin Hood (1973)', 'Dogma (1999)', 'Messenger: The Story of Joan of Arc, The (1999)', 'Longest Day, The (1962)', 'Green Mile, The (1999)', 'Easy Rider (1969)', \"Wayne's World (1992)\", 'Scream 3 (2000)', 'JFK (1991)', 'Teenage Mutant Ninja Turtles II: The Secret of the Ooze (1991)', 'Teenage Mutant Ninja Turtles III (1993)', 'Red Dawn (1984)', 'Good Morning, Vietnam (1987)', 'Grumpy Old Men (1993)', 'Ladyhawke (1985)', 'Hook (1991)', 'Predator (1987)', 'Gladiator (2000)', 'Road Trip (2000)', 'Man with the Golden Gun, The (1974)', 'Blazing Saddles (1974)', 'Mad Max (1979)', 'Road Warrior, The (Mad Max 2) (1981)', 'Shaft (1971)', 'Big Trouble in Little China (1986)', 'Shaft (2000)', 'X-Men (2000)', 'What About Bob? (1991)', 'Transformers: The Movie (1986)', 'M*A*S*H (a.k.a. MASH) (1970)']\n",
      "users recommended movies:\n",
      " ['Dunkirk (2017)', 'Sanjuro (Tsubaki Sanjûrô) (1962)', 'Before Sunrise (1995)', 'Yojimbo (1961)', 'Key Largo (1948)']\n"
     ]
    }
   ],
   "source": [
    "helpers.user_liked_compared_recommended(ratings_df, movies_df, userRecs_df, 1)"
   ]
  },
  {
   "cell_type": "code",
   "execution_count": 118,
   "metadata": {},
   "outputs": [
    {
     "data": {
      "text/html": [
       "<div>\n",
       "<style scoped>\n",
       "    .dataframe tbody tr th:only-of-type {\n",
       "        vertical-align: middle;\n",
       "    }\n",
       "\n",
       "    .dataframe tbody tr th {\n",
       "        vertical-align: top;\n",
       "    }\n",
       "\n",
       "    .dataframe thead th {\n",
       "        text-align: right;\n",
       "    }\n",
       "</style>\n",
       "<table border=\"1\" class=\"dataframe\">\n",
       "  <thead>\n",
       "    <tr style=\"text-align: right;\">\n",
       "      <th></th>\n",
       "      <th>movieId</th>\n",
       "      <th>title</th>\n",
       "      <th>genres</th>\n",
       "    </tr>\n",
       "  </thead>\n",
       "  <tbody>\n",
       "    <tr>\n",
       "      <th>0</th>\n",
       "      <td>1</td>\n",
       "      <td>Toy Story (1995)</td>\n",
       "      <td>Adventure|Animation|Children|Comedy|Fantasy</td>\n",
       "    </tr>\n",
       "  </tbody>\n",
       "</table>\n",
       "</div>"
      ],
      "text/plain": [
       "   movieId             title                                       genres\n",
       "0        1  Toy Story (1995)  Adventure|Animation|Children|Comedy|Fantasy"
      ]
     },
     "execution_count": 118,
     "metadata": {},
     "output_type": "execute_result"
    }
   ],
   "source": [
    "movies_df[movies_df['title']=='Toy Story (1995)']"
   ]
  },
  {
   "cell_type": "code",
   "execution_count": 119,
   "metadata": {},
   "outputs": [
    {
     "data": {
      "text/html": [
       "<div>\n",
       "<style scoped>\n",
       "    .dataframe tbody tr th:only-of-type {\n",
       "        vertical-align: middle;\n",
       "    }\n",
       "\n",
       "    .dataframe tbody tr th {\n",
       "        vertical-align: top;\n",
       "    }\n",
       "\n",
       "    .dataframe thead th {\n",
       "        text-align: right;\n",
       "    }\n",
       "</style>\n",
       "<table border=\"1\" class=\"dataframe\">\n",
       "  <thead>\n",
       "    <tr style=\"text-align: right;\">\n",
       "      <th></th>\n",
       "      <th>movieId</th>\n",
       "      <th>title</th>\n",
       "      <th>genres</th>\n",
       "    </tr>\n",
       "  </thead>\n",
       "  <tbody>\n",
       "    <tr>\n",
       "      <th>750</th>\n",
       "      <td>984</td>\n",
       "      <td>Pompatus of Love, The (1996)</td>\n",
       "      <td>Comedy|Drama</td>\n",
       "    </tr>\n",
       "  </tbody>\n",
       "</table>\n",
       "</div>"
      ],
      "text/plain": [
       "     movieId                         title        genres\n",
       "750      984  Pompatus of Love, The (1996)  Comedy|Drama"
      ]
     },
     "execution_count": 119,
     "metadata": {},
     "output_type": "execute_result"
    }
   ],
   "source": [
    "movies_df[movies_df['title']=='Pompatus of Love, The (1996)']"
   ]
  },
  {
   "cell_type": "code",
   "execution_count": 128,
   "metadata": {},
   "outputs": [
    {
     "data": {
      "text/html": [
       "<div>\n",
       "<style scoped>\n",
       "    .dataframe tbody tr th:only-of-type {\n",
       "        vertical-align: middle;\n",
       "    }\n",
       "\n",
       "    .dataframe tbody tr th {\n",
       "        vertical-align: top;\n",
       "    }\n",
       "\n",
       "    .dataframe thead th {\n",
       "        text-align: right;\n",
       "    }\n",
       "</style>\n",
       "<table border=\"1\" class=\"dataframe\">\n",
       "  <thead>\n",
       "    <tr style=\"text-align: right;\">\n",
       "      <th></th>\n",
       "      <th>movie ids</th>\n",
       "      <th>similarity</th>\n",
       "    </tr>\n",
       "  </thead>\n",
       "  <tbody>\n",
       "    <tr>\n",
       "      <th>0</th>\n",
       "      <td>174055</td>\n",
       "      <td>0.292535</td>\n",
       "    </tr>\n",
       "    <tr>\n",
       "      <th>1</th>\n",
       "      <td>2905</td>\n",
       "      <td>0.351770</td>\n",
       "    </tr>\n",
       "    <tr>\n",
       "      <th>2</th>\n",
       "      <td>215</td>\n",
       "      <td>0.185038</td>\n",
       "    </tr>\n",
       "    <tr>\n",
       "      <th>3</th>\n",
       "      <td>3030</td>\n",
       "      <td>0.295158</td>\n",
       "    </tr>\n",
       "    <tr>\n",
       "      <th>4</th>\n",
       "      <td>3334</td>\n",
       "      <td>0.212563</td>\n",
       "    </tr>\n",
       "  </tbody>\n",
       "</table>\n",
       "</div>"
      ],
      "text/plain": [
       "   movie ids  similarity\n",
       "0     174055    0.292535\n",
       "1       2905    0.351770\n",
       "2        215    0.185038\n",
       "3       3030    0.295158\n",
       "4       3334    0.212563"
      ]
     },
     "execution_count": 128,
     "metadata": {},
     "output_type": "execute_result"
    }
   ],
   "source": [
    "metrics.compare_recs_to_user_likes(movie_ids, good_user_rates, encoded_genres=encoded_movies_df)"
   ]
  },
  {
   "cell_type": "code",
   "execution_count": 137,
   "metadata": {},
   "outputs": [
    {
     "data": {
      "text/plain": [
       "2498    Key Largo (1948)\n",
       "Name: title, dtype: object"
      ]
     },
     "execution_count": 137,
     "metadata": {},
     "output_type": "execute_result"
    }
   ],
   "source": [
    "# metrics.compare_movie(1254, 33, encoded_genres=encoded_movies_df)\n",
    "encoded_movies_df[encoded_movies_df['movieId']==3334]['title']"
   ]
  },
  {
   "cell_type": "code",
   "execution_count": 129,
   "metadata": {},
   "outputs": [
    {
     "data": {
      "text/plain": [
       "[1,\n",
       " 3,\n",
       " 6,\n",
       " 47,\n",
       " 50,\n",
       " 101,\n",
       " 110,\n",
       " 151,\n",
       " 157,\n",
       " 163,\n",
       " 216,\n",
       " 231,\n",
       " 235,\n",
       " 260,\n",
       " 333,\n",
       " 349,\n",
       " 356,\n",
       " 362,\n",
       " 367,\n",
       " 441,\n",
       " 457,\n",
       " 480,\n",
       " 527,\n",
       " 543,\n",
       " 552,\n",
       " 553,\n",
       " 590,\n",
       " 592,\n",
       " 593,\n",
       " 596,\n",
       " 608,\n",
       " 661,\n",
       " 733,\n",
       " 804,\n",
       " 919,\n",
       " 923,\n",
       " 940,\n",
       " 943,\n",
       " 954,\n",
       " 1023,\n",
       " 1024,\n",
       " 1025,\n",
       " 1029,\n",
       " 1031,\n",
       " 1032,\n",
       " 1042,\n",
       " 1049,\n",
       " 1060,\n",
       " 1073,\n",
       " 1080,\n",
       " 1089,\n",
       " 1090,\n",
       " 1092,\n",
       " 1097,\n",
       " 1127,\n",
       " 1136,\n",
       " 1196,\n",
       " 1197,\n",
       " 1198,\n",
       " 1206,\n",
       " 1208,\n",
       " 1210,\n",
       " 1213,\n",
       " 1214,\n",
       " 1220,\n",
       " 1222,\n",
       " 1224,\n",
       " 1226,\n",
       " 1240,\n",
       " 1256,\n",
       " 1265,\n",
       " 1270,\n",
       " 1275,\n",
       " 1278,\n",
       " 1282,\n",
       " 1291,\n",
       " 1298,\n",
       " 1348,\n",
       " 1473,\n",
       " 1500,\n",
       " 1517,\n",
       " 1552,\n",
       " 1573,\n",
       " 1587,\n",
       " 1617,\n",
       " 1620,\n",
       " 1625,\n",
       " 1732,\n",
       " 1777,\n",
       " 1793,\n",
       " 1804,\n",
       " 1805,\n",
       " 1920,\n",
       " 1927,\n",
       " 1954,\n",
       " 1967,\n",
       " 2000,\n",
       " 2005,\n",
       " 2012,\n",
       " 2018,\n",
       " 2028,\n",
       " 2033,\n",
       " 2046,\n",
       " 2048,\n",
       " 2054,\n",
       " 2058,\n",
       " 2078,\n",
       " 2090,\n",
       " 2094,\n",
       " 2096,\n",
       " 2099,\n",
       " 2105,\n",
       " 2115,\n",
       " 2116,\n",
       " 2137,\n",
       " 2139,\n",
       " 2141,\n",
       " 2143,\n",
       " 2161,\n",
       " 2174,\n",
       " 2193,\n",
       " 2268,\n",
       " 2273,\n",
       " 2291,\n",
       " 2329,\n",
       " 2353,\n",
       " 2366,\n",
       " 2387,\n",
       " 2395,\n",
       " 2406,\n",
       " 2427,\n",
       " 2450,\n",
       " 2459,\n",
       " 2470,\n",
       " 2478,\n",
       " 2492,\n",
       " 2502,\n",
       " 2529,\n",
       " 2542,\n",
       " 2571,\n",
       " 2580,\n",
       " 2596,\n",
       " 2616,\n",
       " 2628,\n",
       " 2640,\n",
       " 2641,\n",
       " 2644,\n",
       " 2648,\n",
       " 2654,\n",
       " 2692,\n",
       " 2700,\n",
       " 2716,\n",
       " 2761,\n",
       " 2797,\n",
       " 2826,\n",
       " 2858,\n",
       " 2872,\n",
       " 2899,\n",
       " 2916,\n",
       " 2944,\n",
       " 2947,\n",
       " 2948,\n",
       " 2949,\n",
       " 2959,\n",
       " 2985,\n",
       " 2987,\n",
       " 2991,\n",
       " 2993,\n",
       " 2997,\n",
       " 3033,\n",
       " 3034,\n",
       " 3052,\n",
       " 3053,\n",
       " 3062,\n",
       " 3147,\n",
       " 3168,\n",
       " 3253,\n",
       " 3273,\n",
       " 3386,\n",
       " 3439,\n",
       " 3440,\n",
       " 3441,\n",
       " 3448,\n",
       " 3450,\n",
       " 3479,\n",
       " 3489,\n",
       " 3527,\n",
       " 3578,\n",
       " 3617,\n",
       " 3639,\n",
       " 3671,\n",
       " 3702,\n",
       " 3703,\n",
       " 3729,\n",
       " 3740,\n",
       " 3744,\n",
       " 3793,\n",
       " 3809,\n",
       " 4006,\n",
       " 5060]"
      ]
     },
     "execution_count": 129,
     "metadata": {},
     "output_type": "execute_result"
    }
   ],
   "source": [
    "good_user_rates"
   ]
  },
  {
   "cell_type": "code",
   "execution_count": 106,
   "metadata": {},
   "outputs": [
    {
     "data": {
      "text/plain": [
       "13    Nixon (1995)\n",
       "Name: title, dtype: object"
      ]
     },
     "execution_count": 106,
     "metadata": {},
     "output_type": "execute_result"
    }
   ],
   "source": [
    "# metrics.compare_movie(1254, 33, encoded_genres=encoded_movies_df)\n",
    "encoded_movies_df[encoded_movies_df['movieId']==14]['title']"
   ]
  },
  {
   "cell_type": "code",
   "execution_count": 48,
   "metadata": {},
   "outputs": [
    {
     "ename": "NameError",
     "evalue": "name 'recommendation_ids' is not defined",
     "output_type": "error",
     "traceback": [
      "\u001b[0;31m---------------------------------------------------------------------------\u001b[0m",
      "\u001b[0;31mNameError\u001b[0m                                 Traceback (most recent call last)",
      "\u001b[0;32m<ipython-input-48-2c36da76dad4>\u001b[0m in \u001b[0;36m<module>\u001b[0;34m\u001b[0m\n\u001b[1;32m      1\u001b[0m \u001b[0mavg_cos_scores\u001b[0m \u001b[0;34m=\u001b[0m \u001b[0;34m[\u001b[0m\u001b[0;34m]\u001b[0m\u001b[0;34m\u001b[0m\u001b[0;34m\u001b[0m\u001b[0m\n\u001b[0;32m----> 2\u001b[0;31m \u001b[0;32mfor\u001b[0m \u001b[0mrec_id\u001b[0m \u001b[0;32min\u001b[0m \u001b[0mrecommendation_ids\u001b[0m\u001b[0;34m:\u001b[0m\u001b[0;34m\u001b[0m\u001b[0;34m\u001b[0m\u001b[0m\n\u001b[0m\u001b[1;32m      3\u001b[0m     \u001b[0msimilarities\u001b[0m \u001b[0;34m=\u001b[0m \u001b[0;34m[\u001b[0m\u001b[0;34m]\u001b[0m\u001b[0;34m\u001b[0m\u001b[0;34m\u001b[0m\u001b[0m\n\u001b[1;32m      4\u001b[0m     \u001b[0mdiv\u001b[0m \u001b[0;34m=\u001b[0m \u001b[0mlen\u001b[0m\u001b[0;34m(\u001b[0m\u001b[0mliked_ids\u001b[0m\u001b[0;34m)\u001b[0m\u001b[0;34m\u001b[0m\u001b[0;34m\u001b[0m\u001b[0m\n\u001b[1;32m      5\u001b[0m     \u001b[0;32mfor\u001b[0m \u001b[0mliked_id\u001b[0m \u001b[0;32min\u001b[0m \u001b[0mliked_ids\u001b[0m\u001b[0;34m:\u001b[0m\u001b[0;34m\u001b[0m\u001b[0;34m\u001b[0m\u001b[0m\n",
      "\u001b[0;31mNameError\u001b[0m: name 'recommendation_ids' is not defined"
     ]
    }
   ],
   "source": [
    "avg_cos_scores = []\n",
    "for rec_id in recommendation_ids:\n",
    "    similarities = []\n",
    "    div = len(liked_ids)\n",
    "    for liked_id in liked_ids:\n",
    "        similarities.append(compare_movie(rec_id, liked_id, encoded_genres=encoded_genres))\n",
    "    avg_cos_score = sum(similarities)/div\n",
    "    avg_cos_scores.append(avg_cos_score)\n",
    "pd.DataFrame(zip(recommendation_ids, avg_cos_scores))"
   ]
  },
  {
   "cell_type": "code",
   "execution_count": null,
   "metadata": {},
   "outputs": [],
   "source": []
  }
 ],
 "metadata": {
  "kernelspec": {
   "display_name": "Python [conda env:learn-env] *",
   "language": "python",
   "name": "conda-env-learn-env-py"
  },
  "language_info": {
   "codemirror_mode": {
    "name": "ipython",
    "version": 3
   },
   "file_extension": ".py",
   "mimetype": "text/x-python",
   "name": "python",
   "nbconvert_exporter": "python",
   "pygments_lexer": "ipython3",
   "version": "3.6.9"
  }
 },
 "nbformat": 4,
 "nbformat_minor": 4
}
