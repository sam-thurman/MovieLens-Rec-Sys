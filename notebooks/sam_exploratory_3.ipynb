{
 "cells": [
  {
   "cell_type": "code",
   "execution_count": 1,
   "metadata": {},
   "outputs": [],
   "source": [
    "%load_ext autoreload\n",
    "%autoreload 2"
   ]
  },
  {
   "cell_type": "code",
   "execution_count": 2,
   "metadata": {},
   "outputs": [],
   "source": [
    "import os, sys\n",
    "module_path = os.path.abspath(os.path.join(os.pardir))\n",
    "if module_path not in sys.path:\n",
    "    sys.path.append(module_path)\n",
    "    \n",
    "import pandas as pd\n",
    "import numpy as np\n",
    "\n",
    "from pyspark.sql import SparkSession\n",
    "from pyspark import SparkContext\n",
    "import pyspark.sql\n",
    "\n",
    "from pyspark.ml.recommendation import ALS\n",
    "from pyspark.ml.feature import VectorAssembler\n",
    "from pyspark.ml.evaluation import RegressionEvaluator\n",
    "\n",
    "from sklearn.preprocessing import LabelEncoder\n",
    "from sklearn.preprocessing import OneHotEncoder\n",
    "from sklearn.model_selection import train_test_split\n",
    "from sklearn.preprocessing import MultiLabelBinarizer\n",
    "\n",
    "#scripts\n",
    "from src import rank_metrics\n",
    "from src import helpers\n",
    "from src import table_encoder\n",
    "from src import metrics"
   ]
  },
  {
   "cell_type": "code",
   "execution_count": 3,
   "metadata": {},
   "outputs": [],
   "source": [
    "spark = SparkSession(SparkContext())"
   ]
  },
  {
   "cell_type": "code",
   "execution_count": 4,
   "metadata": {},
   "outputs": [],
   "source": [
    "data_path = '../data/csv'"
   ]
  },
  {
   "cell_type": "code",
   "execution_count": 5,
   "metadata": {},
   "outputs": [],
   "source": [
    "def load_format_data(data_path):\n",
    "    '''\n",
    "    Reads all necessary csv files to pandas dataframes\n",
    "    Data_path is the path to a folder containing csv files \n",
    "    loaded below. If running from our jupyter notebook, this \n",
    "    will be \"../data/csv\"\n",
    "    '''\n",
    "    ratings_df = pd.DataFrame(pd.read_csv(os.path.join(data_path, 'ratings.csv')))\n",
    "    movies_df = pd.DataFrame(pd.read_csv(os.path.join(data_path, 'movies.csv')))\n",
    "    encoded_movies_df = pd.DataFrame(pd.read_csv(os.path.join(data_path, 'encoded_movies.csv'))).drop('Unnamed: 0', axis=1)\n",
    "    tags_df = pd.DataFrame(pd.read_csv(os.path.join(data_path, 'tags.csv')))\n",
    "    enoded_tags_df = pd.DataFrame(pd.read_csv(os.path.join(data_path,'encoded_tags.csv')))\n",
    "    \n",
    "    return ratings_df, movies_df, encoded_movies_df, tags_df, enoded_tags_df"
   ]
  },
  {
   "cell_type": "code",
   "execution_count": 6,
   "metadata": {},
   "outputs": [],
   "source": [
    "ratings_df, movies_df, encoded_movies_df, tags_df, enoded_tags_df = load_format_data(data_path)"
   ]
  },
  {
   "cell_type": "code",
   "execution_count": 7,
   "metadata": {},
   "outputs": [],
   "source": [
    "def load_format_data_for_model(data_path):\n",
    "    '''\n",
    "    Call load_format_data, drop irrelevant columns and return train/test\n",
    "    data as spark dataframes\n",
    "    '''\n",
    "    ratings_df, movies_df, encoded_movies_df, tags_df, enoded_tags_df = load_format_data(data_path)\n",
    "    ratings_df = ratings_df.drop('timestamp', axis=1)\n",
    "    ratings = spark.createDataFrame(ratings_df)\n",
    "    (train, test) = ratings.randomSplit([0.8, 0.2])\n",
    "    return train, test"
   ]
  },
  {
   "cell_type": "code",
   "execution_count": 8,
   "metadata": {},
   "outputs": [],
   "source": [
    "train, test = load_format_data_for_model(data_path)"
   ]
  },
  {
   "cell_type": "code",
   "execution_count": 9,
   "metadata": {},
   "outputs": [],
   "source": [
    "def fit_als(training_data):\n",
    "    als = ALS(maxIter=5, regParam=0.01, userCol=\"userId\", itemCol=\"movieId\", ratingCol=\"rating\",\n",
    "          coldStartStrategy=\"drop\")\n",
    "    model = als.fit(training_data)\n",
    "    return model"
   ]
  },
  {
   "cell_type": "code",
   "execution_count": 10,
   "metadata": {},
   "outputs": [],
   "source": [
    "model = fit_als(train)"
   ]
  },
  {
   "cell_type": "code",
   "execution_count": 11,
   "metadata": {},
   "outputs": [],
   "source": [
    "def predict_for_all_users(test_data):\n",
    "    # Evaluate the model by computing the RMSE on the test data\n",
    "    predictions = model.transform(test)\n",
    "    evaluator = RegressionEvaluator(metricName=\"rmse\", labelCol=\"rating\",\n",
    "                                predictionCol=\"prediction\")\n",
    "    rmse = evaluator.evaluate(predictions)\n",
    "    print(\"RMSE = \" + str(rmse))\n",
    "\n",
    "    # Generate top 10 movie recommendations for each user\n",
    "    userRecs = model.recommendForAllUsers(5)\n",
    "    # Generate top 10 user recommendations for each movie\n",
    "    movieRecs = model.recommendForAllItems(5)\n",
    "    return userRecs, movieRecs"
   ]
  },
  {
   "cell_type": "code",
   "execution_count": 12,
   "metadata": {},
   "outputs": [
    {
     "name": "stdout",
     "output_type": "stream",
     "text": [
      "RMSE = 1.0829909931081698\n"
     ]
    }
   ],
   "source": [
    "allUserRecs, allMovieRecs = predict_for_all_users(test)"
   ]
  },
  {
   "cell_type": "code",
   "execution_count": 13,
   "metadata": {},
   "outputs": [],
   "source": [
    "def predict_for_one_users(user_id, test_data, movie_df):\n",
    "    sample = test_data[test_data['userId'] == user_id]\n",
    "    predictions = model.transform(sample)\n",
    "    prediction_ids = helpers.spark_to_pandas(predictions).sort_values('prediction', ascending=False)[:5]['movieId']\n",
    "    prediction_titles = []\n",
    "    for id in prediction_ids:\n",
    "        title = movie_df[movie_df['movieId']==id]['title']\n",
    "        prediction_titles.append(title.values[0])\n",
    "    return prediction_titles"
   ]
  },
  {
   "cell_type": "code",
   "execution_count": 14,
   "metadata": {},
   "outputs": [
    {
     "data": {
      "text/plain": [
       "['Eat Drink Man Woman (Yin shi nan nu) (1994)',\n",
       " 'Dead Man Walking (1995)',\n",
       " 'Fargo (1996)',\n",
       " 'Shawshank Redemption, The (1994)',\n",
       " 'Quiz Show (1994)']"
      ]
     },
     "execution_count": 14,
     "metadata": {},
     "output_type": "execute_result"
    }
   ],
   "source": [
    "user_prediction = predict_for_one_users(5, test, movies_df)\n",
    "user_prediction"
   ]
  },
  {
   "cell_type": "code",
   "execution_count": 15,
   "metadata": {},
   "outputs": [],
   "source": [
    "def get_user_liked_movie_ids(user_id, ratings_df):\n",
    "    user_rates = ratings_df[ratings_df['userId']==1]\n",
    "    good_user_rates = user_rates[user_rates['rating']>3]\n",
    "    liked_movies = list(good_user_rates['movieId'])\n",
    "    return liked_movies"
   ]
  },
  {
   "cell_type": "code",
   "execution_count": 16,
   "metadata": {},
   "outputs": [],
   "source": [
    "user_liked_movie_ids = get_user_liked_movie_ids(5, ratings_df)"
   ]
  },
  {
   "cell_type": "code",
   "execution_count": 17,
   "metadata": {},
   "outputs": [],
   "source": [
    "def get_user_liked_movie_titles(user_id, ratings_df, movies_df):\n",
    "    ids = get_user_liked_movie_ids(5, ratings_df)\n",
    "    movie_titles = []\n",
    "    for id in ids:\n",
    "        movie_title = movies_df[movies_df['movieId']==id]['title']\n",
    "        movie_titles.append(movie_title.values[0])\n",
    "    return movie_titles"
   ]
  },
  {
   "cell_type": "code",
   "execution_count": 18,
   "metadata": {},
   "outputs": [],
   "source": [
    "user_liked_movie_titles = get_user_liked_movie_titles(5, ratings_df, movies_df)[:5]"
   ]
  },
  {
   "cell_type": "code",
   "execution_count": 19,
   "metadata": {},
   "outputs": [],
   "source": [
    "def get_ids_from_titles(title_list, movies_df):\n",
    "    movie_ids = []\n",
    "    for title in title_list:\n",
    "        movie_ids.append(int(movies_df[movies_df['title']==title]['movieId']))\n",
    "    return movie_ids"
   ]
  },
  {
   "cell_type": "code",
   "execution_count": 20,
   "metadata": {},
   "outputs": [
    {
     "data": {
      "text/plain": [
       "[232, 36, 608, 318, 300]"
      ]
     },
     "execution_count": 20,
     "metadata": {},
     "output_type": "execute_result"
    }
   ],
   "source": [
    "rec_movie_ids = get_ids_from_titles(user_prediction, movies_df)\n",
    "rec_movie_ids"
   ]
  },
  {
   "cell_type": "code",
   "execution_count": 21,
   "metadata": {},
   "outputs": [
    {
     "data": {
      "text/html": [
       "<div>\n",
       "<style scoped>\n",
       "    .dataframe tbody tr th:only-of-type {\n",
       "        vertical-align: middle;\n",
       "    }\n",
       "\n",
       "    .dataframe tbody tr th {\n",
       "        vertical-align: top;\n",
       "    }\n",
       "\n",
       "    .dataframe thead th {\n",
       "        text-align: right;\n",
       "    }\n",
       "</style>\n",
       "<table border=\"1\" class=\"dataframe\">\n",
       "  <thead>\n",
       "    <tr style=\"text-align: right;\">\n",
       "      <th></th>\n",
       "      <th>movie ids</th>\n",
       "      <th>similarity</th>\n",
       "    </tr>\n",
       "  </thead>\n",
       "  <tbody>\n",
       "    <tr>\n",
       "      <th>0</th>\n",
       "      <td>232</td>\n",
       "      <td>0.280194</td>\n",
       "    </tr>\n",
       "    <tr>\n",
       "      <th>1</th>\n",
       "      <td>36</td>\n",
       "      <td>0.213679</td>\n",
       "    </tr>\n",
       "    <tr>\n",
       "      <th>2</th>\n",
       "      <td>608</td>\n",
       "      <td>0.323127</td>\n",
       "    </tr>\n",
       "    <tr>\n",
       "      <th>3</th>\n",
       "      <td>318</td>\n",
       "      <td>0.213679</td>\n",
       "    </tr>\n",
       "    <tr>\n",
       "      <th>4</th>\n",
       "      <td>300</td>\n",
       "      <td>0.191866</td>\n",
       "    </tr>\n",
       "  </tbody>\n",
       "</table>\n",
       "</div>"
      ],
      "text/plain": [
       "   movie ids  similarity\n",
       "0        232    0.280194\n",
       "1         36    0.213679\n",
       "2        608    0.323127\n",
       "3        318    0.213679\n",
       "4        300    0.191866"
      ]
     },
     "execution_count": 21,
     "metadata": {},
     "output_type": "execute_result"
    }
   ],
   "source": [
    "metrics.compare_recs_to_user_likes(rec_movie_ids, user_liked_movie_ids, encoded_genres=encoded_movies_df)"
   ]
  },
  {
   "cell_type": "code",
   "execution_count": 22,
   "metadata": {},
   "outputs": [
    {
     "data": {
      "text/plain": [
       "0.8165"
      ]
     },
     "execution_count": 22,
     "metadata": {},
     "output_type": "execute_result"
    }
   ],
   "source": [
    "metrics.compare_movie(232, 984, encoded_movies_df)"
   ]
  },
  {
   "cell_type": "code",
   "execution_count": null,
   "metadata": {},
   "outputs": [],
   "source": []
  },
  {
   "cell_type": "code",
   "execution_count": null,
   "metadata": {},
   "outputs": [],
   "source": []
  },
  {
   "cell_type": "code",
   "execution_count": null,
   "metadata": {},
   "outputs": [],
   "source": []
  },
  {
   "cell_type": "code",
   "execution_count": null,
   "metadata": {},
   "outputs": [],
   "source": []
  },
  {
   "cell_type": "code",
   "execution_count": null,
   "metadata": {},
   "outputs": [],
   "source": []
  },
  {
   "cell_type": "code",
   "execution_count": null,
   "metadata": {},
   "outputs": [],
   "source": []
  }
 ],
 "metadata": {
  "kernelspec": {
   "display_name": "Python [conda env:learn-env] *",
   "language": "python",
   "name": "conda-env-learn-env-py"
  },
  "language_info": {
   "codemirror_mode": {
    "name": "ipython",
    "version": 3
   },
   "file_extension": ".py",
   "mimetype": "text/x-python",
   "name": "python",
   "nbconvert_exporter": "python",
   "pygments_lexer": "ipython3",
   "version": "3.6.9"
  }
 },
 "nbformat": 4,
 "nbformat_minor": 4
}
